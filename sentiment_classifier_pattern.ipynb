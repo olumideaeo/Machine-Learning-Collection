{
  "cells": [
    {
      "cell_type": "markdown",
      "metadata": {
        "id": "view-in-github",
        "colab_type": "text"
      },
      "source": [
        "<a href=\"https://colab.research.google.com/github/olumideaeo/Machine-Learning-Collection/blob/master/sentiment_classifier_pattern.ipynb\" target=\"_parent\"><img src=\"https://colab.research.google.com/assets/colab-badge.svg\" alt=\"Open In Colab\"/></a>"
      ]
    },
    {
      "cell_type": "code",
      "execution_count": 1,
      "metadata": {
        "id": "x_CgYVmMIiIM",
        "colab": {
          "base_uri": "https://localhost:8080/"
        },
        "outputId": "8886d981-f3bf-4006-d05f-75e4d4720a4d"
      },
      "outputs": [
        {
          "output_type": "stream",
          "name": "stdout",
          "text": [
            "Downloading...\n",
            "From: https://drive.google.com/uc?id=0Bz8a_Dbh9QhbaW12WVVZS2drcnM\n",
            "To: /content/amazon_review_polarity_csv.tar.gz\n",
            "100% 688M/688M [00:09<00:00, 69.0MB/s]\n"
          ]
        }
      ],
      "source": [
        "!gdown --id 0Bz8a_Dbh9QhbaW12WVVZS2drcnM"
      ]
    },
    {
      "cell_type": "code",
      "execution_count": 2,
      "metadata": {
        "id": "JtH7e9LaVWEC",
        "colab": {
          "base_uri": "https://localhost:8080/"
        },
        "outputId": "f8074f09-f37e-40de-cdef-b546029394fd"
      },
      "outputs": [
        {
          "output_type": "stream",
          "name": "stdout",
          "text": [
            "amazon_review_polarity_csv/\n",
            "amazon_review_polarity_csv/test.csv\n",
            "amazon_review_polarity_csv/train.csv\n",
            "amazon_review_polarity_csv/readme.txt\n"
          ]
        }
      ],
      "source": [
        "!tar xzvf amazon_review_polarity_csv.tar.gz"
      ]
    },
    {
      "cell_type": "code",
      "source": [
        "import pandas as pd\n",
        "import numpy as np\n",
        "import os\n",
        "import matplotlib\n",
        "import matplotlib.pyplot as plt\n",
        "plt.style.use('ggplot')\n",
        "import seaborn as sns\n",
        "sns.set(style='whitegrid')\n",
        "\n",
        "from wordcloud import WordCloud\n",
        "\n",
        "from sklearn.feature_extraction.text import CountVectorizer, TfidfVectorizer\n",
        "from sklearn.model_selection import train_test_split\n",
        "from sklearn.decomposition import PCA, TruncatedSVD\n",
        "from sklearn.metrics import classification_report,confusion_matrix\n",
        "\n",
        "from collections import defaultdict\n",
        "from collections import Counter\n",
        "\n",
        "import re\n",
        "import gensim\n",
        "import string\n",
        "\n",
        "from tqdm import tqdm\n",
        "from keras.preprocessing.text import Tokenizer\n",
        "from keras.preprocessing.sequence import pad_sequences\n",
        "from keras.models import Sequential\n",
        "from keras.layers import Embedding, LSTM,Dense, SpatialDropout1D, Dropout\n",
        "from keras.initializers import Constant\n",
        "\n",
        "import tensorflow as tf"
      ],
      "metadata": {
        "id": "tSc-0vtKR-rI"
      },
      "execution_count": 3,
      "outputs": []
    },
    {
      "cell_type": "code",
      "source": [
        "df=pd.read_csv('amazon_review_polarity_csv/train.csv')\n",
        "df_test=pd.read_csv('amazon_review_polarity_csv/test.csv')"
      ],
      "metadata": {
        "id": "9QgPrzl8SgNy"
      },
      "execution_count": 4,
      "outputs": []
    },
    {
      "cell_type": "code",
      "source": [
        "df.shape, df_test.shape"
      ],
      "metadata": {
        "id": "srckvmO0UeDT",
        "colab": {
          "base_uri": "https://localhost:8080/"
        },
        "outputId": "8ac3e1ad-8db7-4420-c350-87ece91ca333"
      },
      "execution_count": 5,
      "outputs": [
        {
          "output_type": "execute_result",
          "data": {
            "text/plain": [
              "((3599999, 3), (399999, 3))"
            ]
          },
          "metadata": {},
          "execution_count": 5
        }
      ]
    }
  ],
  "metadata": {
    "colab": {
      "name": "Untitled10.ipynb",
      "provenance": [],
      "authorship_tag": "ABX9TyOgSRrKqFJ9BWeU3t6h5Cli",
      "include_colab_link": true
    },
    "kernelspec": {
      "display_name": "Python 3",
      "name": "python3"
    },
    "language_info": {
      "name": "python"
    }
  },
  "nbformat": 4,
  "nbformat_minor": 0
}