{
  "nbformat": 4,
  "nbformat_minor": 0,
  "metadata": {
    "colab": {
      "name": "Untitled10.ipynb",
      "provenance": [],
      "authorship_tag": "ABX9TyPh29xLpvdYZlpQ9Z0tAO0x",
      "include_colab_link": true
    },
    "kernelspec": {
      "name": "python3",
      "display_name": "Python 3"
    },
    "language_info": {
      "name": "python"
    }
  },
  "cells": [
    {
      "cell_type": "markdown",
      "metadata": {
        "id": "view-in-github",
        "colab_type": "text"
      },
      "source": [
        "<a href=\"https://colab.research.google.com/github/olumideaeo/Machine-Learning-Collection/blob/master/sentiment_classifier_pattern.ipynb\" target=\"_parent\"><img src=\"https://colab.research.google.com/assets/colab-badge.svg\" alt=\"Open In Colab\"/></a>"
      ]
    },
    {
      "cell_type": "code",
      "execution_count": 2,
      "metadata": {
        "id": "x_CgYVmMIiIM",
        "colab": {
          "base_uri": "https://localhost:8080/"
        },
        "outputId": "18a57dfe-be70-488d-9a67-e2464e6e54b6"
      },
      "outputs": [
        {
          "output_type": "stream",
          "name": "stdout",
          "text": [
            "Downloading...\n",
            "From: https://drive.google.com/uc?id=0Bz8a_Dbh9QhbaW12WVVZS2drcnM\n",
            "To: /content/amazon_review_polarity_csv.tar.gz\n",
            "100% 688M/688M [00:03<00:00, 215MB/s]\n"
          ]
        }
      ],
      "source": [
        "! gdown --id 0Bz8a_Dbh9QhbaW12WVVZS2drcnM"
      ]
    },
    {
      "cell_type": "code",
      "source": [
        "!tar xzvf amazon_review_polarity_csv.tar.gz"
      ],
      "metadata": {
        "colab": {
          "base_uri": "https://localhost:8080/"
        },
        "id": "4mPDCf2kpv-E",
        "outputId": "002225bf-c3a6-42b8-9e8e-1ef1838d49c3"
      },
      "execution_count": 4,
      "outputs": [
        {
          "output_type": "stream",
          "name": "stdout",
          "text": [
            "amazon_review_polarity_csv/\n",
            "amazon_review_polarity_csv/test.csv\n",
            "amazon_review_polarity_csv/train.csv\n",
            "amazon_review_polarity_csv/readme.txt\n"
          ]
        }
      ]
    },
    {
      "cell_type": "code",
      "source": [
        ""
      ],
      "metadata": {
        "id": "-n2hUwUsqkI0"
      },
      "execution_count": null,
      "outputs": []
    }
  ]
}