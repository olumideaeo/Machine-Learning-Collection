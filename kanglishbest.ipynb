{
  "nbformat": 4,
  "nbformat_minor": 0,
  "metadata": {
    "colab": {
      "provenance": [],
      "include_colab_link": true
    },
    "kernelspec": {
      "name": "python3",
      "display_name": "Python 3"
    },
    "language_info": {
      "name": "python"
    },
    "accelerator": "GPU",
    "gpuClass": "standard"
  },
  "cells": [
    {
      "cell_type": "markdown",
      "metadata": {
        "id": "view-in-github",
        "colab_type": "text"
      },
      "source": [
        "<a href=\"https://colab.research.google.com/github/olumideaeo/Machine-Learning-Collection/blob/master/kanglishbest.ipynb\" target=\"_parent\"><img src=\"https://colab.research.google.com/assets/colab-badge.svg\" alt=\"Open In Colab\"/></a>"
      ]
    },
    {
      "cell_type": "code",
      "source": [
        "import random\n",
        "import numpy as np \n",
        "import pandas as pd \n",
        "import torch \n",
        "import torch.nn.functional as F\n",
        "import time"
      ],
      "metadata": {
        "id": "qoVvdJ1taici"
      },
      "execution_count": null,
      "outputs": []
    },
    {
      "cell_type": "code",
      "source": [
        "from google.colab import drive\n",
        "drive.mount('/content/drive')"
      ],
      "metadata": {
        "colab": {
          "base_uri": "https://localhost:8080/"
        },
        "id": "ggHSHoHZX2P7",
        "outputId": "4a469a10-b071-44e6-b8e2-f5935a012284"
      },
      "execution_count": null,
      "outputs": [
        {
          "output_type": "stream",
          "name": "stdout",
          "text": [
            "Drive already mounted at /content/drive; to attempt to forcibly remount, call drive.mount(\"/content/drive\", force_remount=True).\n"
          ]
        }
      ]
    },
    {
      "cell_type": "code",
      "source": [
        "raw =pd.read_csv('/content/drive/MyDrive/Colab Notebooks/Train_Kanglish.csv')\n",
        "raw.tail()"
      ],
      "metadata": {
        "colab": {
          "base_uri": "https://localhost:8080/",
          "height": 206
        },
        "id": "CYU7ldbvHwPO",
        "outputId": "dfe24da5-2bef-4da2-d8d7-088a8a091fe0"
      },
      "execution_count": null,
      "outputs": [
        {
          "output_type": "execute_result",
          "data": {
            "text/plain": [
              "                word    tag\n",
              "14842    hiremadtara  en-kn\n",
              "14843    solutionila  en-kn\n",
              "14844  accessmadkoli  en-kn\n",
              "14845    glasshakisi  en-kn\n",
              "14846        keybeku  en-kn"
            ],
            "text/html": [
              "\n",
              "  <div id=\"df-2d722cd9-4c1a-4d3f-94e2-95c2ba08caf5\">\n",
              "    <div class=\"colab-df-container\">\n",
              "      <div>\n",
              "<style scoped>\n",
              "    .dataframe tbody tr th:only-of-type {\n",
              "        vertical-align: middle;\n",
              "    }\n",
              "\n",
              "    .dataframe tbody tr th {\n",
              "        vertical-align: top;\n",
              "    }\n",
              "\n",
              "    .dataframe thead th {\n",
              "        text-align: right;\n",
              "    }\n",
              "</style>\n",
              "<table border=\"1\" class=\"dataframe\">\n",
              "  <thead>\n",
              "    <tr style=\"text-align: right;\">\n",
              "      <th></th>\n",
              "      <th>word</th>\n",
              "      <th>tag</th>\n",
              "    </tr>\n",
              "  </thead>\n",
              "  <tbody>\n",
              "    <tr>\n",
              "      <th>14842</th>\n",
              "      <td>hiremadtara</td>\n",
              "      <td>en-kn</td>\n",
              "    </tr>\n",
              "    <tr>\n",
              "      <th>14843</th>\n",
              "      <td>solutionila</td>\n",
              "      <td>en-kn</td>\n",
              "    </tr>\n",
              "    <tr>\n",
              "      <th>14844</th>\n",
              "      <td>accessmadkoli</td>\n",
              "      <td>en-kn</td>\n",
              "    </tr>\n",
              "    <tr>\n",
              "      <th>14845</th>\n",
              "      <td>glasshakisi</td>\n",
              "      <td>en-kn</td>\n",
              "    </tr>\n",
              "    <tr>\n",
              "      <th>14846</th>\n",
              "      <td>keybeku</td>\n",
              "      <td>en-kn</td>\n",
              "    </tr>\n",
              "  </tbody>\n",
              "</table>\n",
              "</div>\n",
              "      <button class=\"colab-df-convert\" onclick=\"convertToInteractive('df-2d722cd9-4c1a-4d3f-94e2-95c2ba08caf5')\"\n",
              "              title=\"Convert this dataframe to an interactive table.\"\n",
              "              style=\"display:none;\">\n",
              "        \n",
              "  <svg xmlns=\"http://www.w3.org/2000/svg\" height=\"24px\"viewBox=\"0 0 24 24\"\n",
              "       width=\"24px\">\n",
              "    <path d=\"M0 0h24v24H0V0z\" fill=\"none\"/>\n",
              "    <path d=\"M18.56 5.44l.94 2.06.94-2.06 2.06-.94-2.06-.94-.94-2.06-.94 2.06-2.06.94zm-11 1L8.5 8.5l.94-2.06 2.06-.94-2.06-.94L8.5 2.5l-.94 2.06-2.06.94zm10 10l.94 2.06.94-2.06 2.06-.94-2.06-.94-.94-2.06-.94 2.06-2.06.94z\"/><path d=\"M17.41 7.96l-1.37-1.37c-.4-.4-.92-.59-1.43-.59-.52 0-1.04.2-1.43.59L10.3 9.45l-7.72 7.72c-.78.78-.78 2.05 0 2.83L4 21.41c.39.39.9.59 1.41.59.51 0 1.02-.2 1.41-.59l7.78-7.78 2.81-2.81c.8-.78.8-2.07 0-2.86zM5.41 20L4 18.59l7.72-7.72 1.47 1.35L5.41 20z\"/>\n",
              "  </svg>\n",
              "      </button>\n",
              "      \n",
              "  <style>\n",
              "    .colab-df-container {\n",
              "      display:flex;\n",
              "      flex-wrap:wrap;\n",
              "      gap: 12px;\n",
              "    }\n",
              "\n",
              "    .colab-df-convert {\n",
              "      background-color: #E8F0FE;\n",
              "      border: none;\n",
              "      border-radius: 50%;\n",
              "      cursor: pointer;\n",
              "      display: none;\n",
              "      fill: #1967D2;\n",
              "      height: 32px;\n",
              "      padding: 0 0 0 0;\n",
              "      width: 32px;\n",
              "    }\n",
              "\n",
              "    .colab-df-convert:hover {\n",
              "      background-color: #E2EBFA;\n",
              "      box-shadow: 0px 1px 2px rgba(60, 64, 67, 0.3), 0px 1px 3px 1px rgba(60, 64, 67, 0.15);\n",
              "      fill: #174EA6;\n",
              "    }\n",
              "\n",
              "    [theme=dark] .colab-df-convert {\n",
              "      background-color: #3B4455;\n",
              "      fill: #D2E3FC;\n",
              "    }\n",
              "\n",
              "    [theme=dark] .colab-df-convert:hover {\n",
              "      background-color: #434B5C;\n",
              "      box-shadow: 0px 1px 3px 1px rgba(0, 0, 0, 0.15);\n",
              "      filter: drop-shadow(0px 1px 2px rgba(0, 0, 0, 0.3));\n",
              "      fill: #FFFFFF;\n",
              "    }\n",
              "  </style>\n",
              "\n",
              "      <script>\n",
              "        const buttonEl =\n",
              "          document.querySelector('#df-2d722cd9-4c1a-4d3f-94e2-95c2ba08caf5 button.colab-df-convert');\n",
              "        buttonEl.style.display =\n",
              "          google.colab.kernel.accessAllowed ? 'block' : 'none';\n",
              "\n",
              "        async function convertToInteractive(key) {\n",
              "          const element = document.querySelector('#df-2d722cd9-4c1a-4d3f-94e2-95c2ba08caf5');\n",
              "          const dataTable =\n",
              "            await google.colab.kernel.invokeFunction('convertToInteractive',\n",
              "                                                     [key], {});\n",
              "          if (!dataTable) return;\n",
              "\n",
              "          const docLinkHtml = 'Like what you see? Visit the ' +\n",
              "            '<a target=\"_blank\" href=https://colab.research.google.com/notebooks/data_table.ipynb>data table notebook</a>'\n",
              "            + ' to learn more about interactive tables.';\n",
              "          element.innerHTML = '';\n",
              "          dataTable['output_type'] = 'display_data';\n",
              "          await google.colab.output.renderOutput(dataTable, element);\n",
              "          const docLink = document.createElement('div');\n",
              "          docLink.innerHTML = docLinkHtml;\n",
              "          element.appendChild(docLink);\n",
              "        }\n",
              "      </script>\n",
              "    </div>\n",
              "  </div>\n",
              "  "
            ]
          },
          "metadata": {},
          "execution_count": 7
        }
      ]
    },
    {
      "cell_type": "code",
      "source": [
        "\n",
        "seed = 1111\n",
        "random.seed(seed)\n",
        "np.random.RandomState(seed)\n",
        "torch.manual_seed(seed)"
      ],
      "metadata": {
        "colab": {
          "base_uri": "https://localhost:8080/"
        },
        "id": "yVqRFWW3a5VC",
        "outputId": "765f5b23-1e1a-4c03-b6ee-709b132d1bb5"
      },
      "execution_count": null,
      "outputs": [
        {
          "output_type": "execute_result",
          "data": {
            "text/plain": [
              "<torch._C.Generator at 0x7fae174a7650>"
            ]
          },
          "metadata": {},
          "execution_count": 8
        }
      ]
    },
    {
      "cell_type": "code",
      "source": [
        "x_train_full = raw['word']\n",
        "y_train_full = raw['tag']\n"
      ],
      "metadata": {
        "id": "7wcXH9jDavUW",
        "colab": {
          "base_uri": "https://localhost:8080/"
        },
        "outputId": "72363688-a219-47ae-f71c-13715d8b6a1d"
      },
      "execution_count": null,
      "outputs": [
        {
          "output_type": "stream",
          "name": "stdout",
          "text": [
            "Example:\n",
            "LANG = kn\n",
            "TEXT = anusthu\n"
          ]
        }
      ]
    },
    {
      "cell_type": "code",
      "source": [
        "class Dictionary(object):\n",
        "    def __init__(self):\n",
        "        self.token2idx = {}\n",
        "        self.idx2token = []\n",
        "\n",
        "    def add_token(self, token):\n",
        "        if token not in self.token2idx:\n",
        "            self.idx2token.append(token)\n",
        "            self.token2idx[token] = len(self.idx2token) - 1\n",
        "        return self.token2idx[token]\n",
        "\n",
        "    def __len__(self):\n",
        "        return len(self.idx2token)"
      ],
      "metadata": {
        "id": "uZuBwtr2Hwo_"
      },
      "execution_count": null,
      "outputs": []
    },
    {
      "cell_type": "code",
      "source": [
        "char_vocab = Dictionary()\n",
        "pad_token = '<pad>' \n",
        "unk_token = '<unk>'\n",
        "pad_index = char_vocab.add_token(pad_token)\n",
        "unk_index = char_vocab.add_token(unk_token)\n",
        "\n",
        "\n",
        "chars = set(''.join(x_train_full))\n",
        "for char in sorted(chars):\n",
        "    char_vocab.add_token(char)\n",
        "print(\"Vocabulary:\", len(char_vocab), \"UTF characters\")\n",
        "\n",
        "lang_vocab = Dictionary()\n",
        "\n",
        "languages = set(y_train_full)\n",
        "for lang in sorted(languages):\n",
        "    lang_vocab.add_token(lang)\n",
        "print(\"Labels:\", len(lang_vocab), \"tags\")"
      ],
      "metadata": {
        "colab": {
          "base_uri": "https://localhost:8080/"
        },
        "id": "iQydsi0kbTaf",
        "outputId": "3b187577-e2d4-48ee-a82e-d39034912c72"
      },
      "execution_count": null,
      "outputs": [
        {
          "output_type": "stream",
          "name": "stdout",
          "text": [
            "Vocabulary: 164 UTF characters\n",
            "Labels: 6 tags\n"
          ]
        }
      ]
    },
    {
      "cell_type": "code",
      "source": [
        "\n",
        "x_train_idx = [np.array([char_vocab.token2idx[c] for c in line]) for line in x_train_full]\n",
        "y_train_idx = np.array([lang_vocab.token2idx[lang] for lang in y_train_full])\n"
      ],
      "metadata": {
        "id": "3t0U90BvbdAv"
      },
      "execution_count": null,
      "outputs": []
    },
    {
      "cell_type": "code",
      "source": [
        "from sklearn.model_selection import train_test_split\n",
        "x_train, x_val, y_train, y_val = train_test_split(x_train_idx, y_train_idx,test_size=0.005, random_state=0)\n",
        "train_data = [(x, y) for x, y in zip(x_train, y_train)]\n",
        "val_data = [(x, y) for x, y in zip(x_val, y_val)]\n",
        "print(len(train_data), \"training samples\")\n",
        "print(len(val_data), \"validation samples\")"
      ],
      "metadata": {
        "colab": {
          "base_uri": "https://localhost:8080/"
        },
        "id": "4cS5xqkNbdBp",
        "outputId": "19b779fc-10a4-4187-ab7b-200c1e88b51b"
      },
      "execution_count": null,
      "outputs": [
        {
          "output_type": "stream",
          "name": "stdout",
          "text": [
            "14772 training samples\n",
            "75 validation samples\n"
          ]
        }
      ]
    },
    {
      "cell_type": "code",
      "source": [
        "def batch_generator(data, batch_size, token_size):\n",
        "   \n",
        "    minibatch, sequences_so_far, tokens_so_far = [], 0, 0\n",
        "    for ex in data:\n",
        "        seq_len = len(ex[0])\n",
        "        if seq_len > token_size:\n",
        "            ex = (ex[0][:token_size], ex[1])\n",
        "            seq_len = token_size\n",
        "        minibatch.append(ex)\n",
        "        sequences_so_far += 1\n",
        "        tokens_so_far += seq_len\n",
        "        if sequences_so_far == batch_size or tokens_so_far == token_size:\n",
        "            yield minibatch\n",
        "            minibatch, sequences_so_far, tokens_so_far = [], 0, 0\n",
        "        elif sequences_so_far > batch_size or tokens_so_far > token_size:\n",
        "            yield minibatch[:-1]\n",
        "            minibatch, sequences_so_far, tokens_so_far = minibatch[-1:], 1, len(minibatch[-1][0])\n",
        "    if minibatch:\n",
        "        yield minibatch"
      ],
      "metadata": {
        "id": "8PA4vwxKbkZl"
      },
      "execution_count": null,
      "outputs": []
    },
    {
      "cell_type": "code",
      "source": [
        "def pool_generator(data, batch_size, token_size, shuffle=False):\n",
        "\n",
        "    for p in batch_generator(data, batch_size * 100, token_size * 100):\n",
        "        p_batch = batch_generator(sorted(p, key=lambda t: len(t[0]), reverse=True), batch_size, token_size)\n",
        "        p_list = list(p_batch)\n",
        "        if shuffle:\n",
        "            for b in random.sample(p_list, len(p_list)):\n",
        "                yield b\n",
        "        else:\n",
        "            for b in p_list:\n",
        "                yield b"
      ],
      "metadata": {
        "id": "nfcbtVDvbkeT"
      },
      "execution_count": null,
      "outputs": []
    },
    {
      "cell_type": "code",
      "source": [
        "class CharRNNClassifier(torch.nn.Module):\n",
        "\n",
        "    def __init__(self, input_size, embedding_size, hidden_size, output_size, model=\"lstm\", num_layers=1, bidirectional=False, pad_idx=0):\n",
        "        super().__init__()\n",
        "        self.model = model.lower()\n",
        "        self.hidden_size = hidden_size\n",
        "        self.embed = torch.nn.Embedding(input_size, embedding_size, padding_idx=pad_idx)\n",
        "        if self.model == \"gru\":\n",
        "            self.rnn = torch.nn.GRU(embedding_size, hidden_size, num_layers, bidirectional=bidirectional)\n",
        "        elif self.model == \"lstm\":\n",
        "            self.rnn = torch.nn.LSTM(embedding_size, hidden_size, num_layers, bidirectional=bidirectional)\n",
        "        self.h2o = torch.nn.Linear(hidden_size, output_size)\n",
        "        \n",
        "    def forward(self, input, input_lengths):\n",
        "        encoded = self.embed(input)\n",
        "        packed = torch.nn.utils.rnn.pack_padded_sequence(encoded, input_lengths)\n",
        "        output, _ = self.rnn(packed)\n",
        "        padded, _ = torch.nn.utils.rnn.pad_packed_sequence(output, padding_value=float('-inf'))\n",
        "        output, _ = padded.max(dim=0)\n",
        "        output = self.h2o(output)\n",
        "        return output"
      ],
      "metadata": {
        "id": "yjChhZ20bdG6"
      },
      "execution_count": null,
      "outputs": []
    },
    {
      "cell_type": "code",
      "source": [
        "if not torch.cuda.is_available():\n",
        "    print(\"WARNING: CUDA is not available. Select 'GPU On' on kernel settings\")\n",
        "device = torch.device(\"cuda\")\n",
        "torch.cuda.manual_seed(seed)"
      ],
      "metadata": {
        "id": "kxxnyIHpg2kV"
      },
      "execution_count": null,
      "outputs": []
    },
    {
      "cell_type": "code",
      "source": [
        "criterion = torch.nn.CrossEntropyLoss(reduction='sum')"
      ],
      "metadata": {
        "id": "yMvcysDZcUwD"
      },
      "execution_count": null,
      "outputs": []
    },
    {
      "cell_type": "code",
      "source": [
        "def train(model, optimizer, data, batch_size, token_size, max_norm=1, log=False):\n",
        "    model.train()\n",
        "    total_loss = 0\n",
        "    ncorrect = 0\n",
        "    nsentences = 0\n",
        "    ntokens = 0\n",
        "    niterations = 0\n",
        "    for batch in pool_generator(data, batch_size, token_size, shuffle=True):\n",
        "        X = [torch.from_numpy(d[0]) for d in batch]\n",
        "        X_lengths = [x.numel() for x in X]\n",
        "        ntokens += sum(X_lengths)\n",
        "        X_lengths = torch.tensor(X_lengths, dtype=torch.long)\n",
        "        y = torch.tensor([d[1] for d in batch], dtype=torch.long, device=device)\n",
        "        X = torch.nn.utils.rnn.pad_sequence(X).to(device)\n",
        "        model.zero_grad()\n",
        "        output = model(X, X_lengths)\n",
        "        loss = criterion(output, y)\n",
        "        loss.backward()\n",
        "        torch.nn.utils.clip_grad_norm_(model.parameters(), max_norm)      \n",
        "        optimizer.step()\n",
        "        total_loss += loss.item()\n",
        "        ncorrect += (torch.max(output, 1)[1] == y).sum().item()\n",
        "        nsentences += y.numel()\n",
        "        niterations += 1\n",
        "        total_loss = total_loss / nsentences\n",
        "    accuracy = 100 * ncorrect / nsentences\n",
        "    if log:\n",
        "        print(f'Train: wpb={ntokens//niterations}, bsz={nsentences//niterations}, num_updates={niterations}')\n",
        "    return accuracy"
      ],
      "metadata": {
        "id": "t8QrsymqbdHj"
      },
      "execution_count": null,
      "outputs": []
    },
    {
      "cell_type": "code",
      "source": [
        "def validate(model, data, batch_size, token_size):\n",
        "    model.eval()\n",
        "    ncorrect = 0\n",
        "    nsentences = 0\n",
        "    with torch.no_grad():\n",
        "        for batch in pool_generator(data, batch_size, token_size):\n",
        "            X = [torch.from_numpy(d[0]) for d in batch]\n",
        "            X_lengths = torch.tensor([x.numel() for x in X], dtype=torch.long)\n",
        "            y = torch.tensor([d[1] for d in batch], dtype=torch.long, device=device)\n",
        "            X = torch.nn.utils.rnn.pad_sequence(X).to(device)\n",
        "            answer = model(X, X_lengths)\n",
        "            ncorrect += (torch.max(answer, 1)[1] == y).sum().item()\n",
        "            nsentences += y.numel()\n",
        "            dev_acc = 100 * ncorrect / nsentences\n",
        "    return dev_acc"
      ],
      "metadata": {
        "id": "xI0s5xKTHwpr"
      },
      "execution_count": null,
      "outputs": []
    },
    {
      "cell_type": "code",
      "source": [
        "hidden_size = 256\n",
        "embedding_size = 256\n",
        "bidirectional = False\n",
        "ntokens = len(char_vocab)\n",
        "nlabels = len(lang_vocab)"
      ],
      "metadata": {
        "id": "pqcykfPhcwji"
      },
      "execution_count": null,
      "outputs": []
    },
    {
      "cell_type": "code",
      "source": [
        "def get_model():\n",
        "    model = CharRNNClassifier(ntokens, embedding_size, hidden_size, nlabels, bidirectional=bidirectional, pad_idx=pad_index).to(device)\n",
        "    optimizer = torch.optim.Adam(model.parameters())\n",
        "    return model, optimizer"
      ],
      "metadata": {
        "id": "nxQSscGIc0iM"
      },
      "execution_count": null,
      "outputs": []
    },
    {
      "cell_type": "code",
      "source": [
        "batch_size, token_size = 128, 200000\n",
        "epochs =30\n",
        "train_accuracy = []\n",
        "valid_accuracy = []\n",
        "model, optimizer = get_model()\n",
        "print(f'Training cross-validation model for {epochs} epochs')\n",
        "for epoch in range(1, epochs + 1):\n",
        "    tr_acc = train(model, optimizer, train_data, batch_size, token_size, log=epoch==1)\n",
        "    train_accuracy.append(tr_acc)\n",
        "    print(f'| epoch {epoch:03d} | train accuracy={tr_acc:.1f}% ')\n",
        "    vl_acc = validate(model, val_data, batch_size, token_size)\n",
        "    valid_accuracy.append(vl_acc)\n",
        "    print(f'| epoch {epoch:03d} | valid accuracy={vl_acc:.1f}%')"
      ],
      "metadata": {
        "id": "E1xPqmuXc0qA",
        "colab": {
          "base_uri": "https://localhost:8080/"
        },
        "outputId": "203892c9-2cf3-4866-d386-5df14196d7c9"
      },
      "execution_count": null,
      "outputs": [
        {
          "output_type": "stream",
          "name": "stdout",
          "text": [
            "Training cross-validation model for 30 epochs\n",
            "Train: wpb=905, bsz=127, num_updates=116\n",
            "| epoch 001 | train accuracy=60.9% \n",
            "| epoch 001 | valid accuracy=70.7%\n",
            "| epoch 002 | train accuracy=72.2% \n",
            "| epoch 002 | valid accuracy=74.7%\n",
            "| epoch 003 | train accuracy=75.8% \n",
            "| epoch 003 | valid accuracy=80.0%\n",
            "| epoch 004 | train accuracy=78.1% \n",
            "| epoch 004 | valid accuracy=81.3%\n",
            "| epoch 005 | train accuracy=80.0% \n",
            "| epoch 005 | valid accuracy=80.0%\n",
            "| epoch 006 | train accuracy=81.7% \n",
            "| epoch 006 | valid accuracy=80.0%\n",
            "| epoch 007 | train accuracy=83.4% \n",
            "| epoch 007 | valid accuracy=80.0%\n",
            "| epoch 008 | train accuracy=84.1% \n",
            "| epoch 008 | valid accuracy=80.0%\n",
            "| epoch 009 | train accuracy=85.3% \n",
            "| epoch 009 | valid accuracy=76.0%\n",
            "| epoch 010 | train accuracy=87.0% \n",
            "| epoch 010 | valid accuracy=82.7%\n",
            "| epoch 011 | train accuracy=87.6% \n",
            "| epoch 011 | valid accuracy=78.7%\n",
            "| epoch 012 | train accuracy=89.2% \n",
            "| epoch 012 | valid accuracy=84.0%\n",
            "| epoch 013 | train accuracy=89.8% \n",
            "| epoch 013 | valid accuracy=80.0%\n",
            "| epoch 014 | train accuracy=91.0% \n",
            "| epoch 014 | valid accuracy=82.7%\n",
            "| epoch 015 | train accuracy=91.9% \n",
            "| epoch 015 | valid accuracy=84.0%\n",
            "| epoch 016 | train accuracy=92.7% \n",
            "| epoch 016 | valid accuracy=78.7%\n",
            "| epoch 017 | train accuracy=93.5% \n",
            "| epoch 017 | valid accuracy=82.7%\n",
            "| epoch 018 | train accuracy=94.2% \n",
            "| epoch 018 | valid accuracy=80.0%\n",
            "| epoch 019 | train accuracy=94.9% \n",
            "| epoch 019 | valid accuracy=80.0%\n",
            "| epoch 020 | train accuracy=95.5% \n",
            "| epoch 020 | valid accuracy=81.3%\n",
            "| epoch 021 | train accuracy=96.0% \n",
            "| epoch 021 | valid accuracy=80.0%\n",
            "| epoch 022 | train accuracy=96.3% \n",
            "| epoch 022 | valid accuracy=80.0%\n",
            "| epoch 023 | train accuracy=96.6% \n",
            "| epoch 023 | valid accuracy=80.0%\n",
            "| epoch 024 | train accuracy=97.2% \n",
            "| epoch 024 | valid accuracy=78.7%\n",
            "| epoch 025 | train accuracy=97.4% \n",
            "| epoch 025 | valid accuracy=81.3%\n",
            "| epoch 026 | train accuracy=97.9% \n",
            "| epoch 026 | valid accuracy=81.3%\n",
            "| epoch 027 | train accuracy=98.0% \n",
            "| epoch 027 | valid accuracy=81.3%\n",
            "| epoch 028 | train accuracy=98.3% \n",
            "| epoch 028 | valid accuracy=81.3%\n",
            "| epoch 029 | train accuracy=98.5% \n",
            "| epoch 029 | valid accuracy=82.7%\n",
            "| epoch 030 | train accuracy=98.6% \n",
            "| epoch 030 | valid accuracy=84.0%\n"
          ]
        }
      ]
    },
    {
      "cell_type": "code",
      "source": [
        "print(model)\n",
        "for name, param in model.named_parameters():\n",
        "    print(f'{name:20} {param.numel()} {list(param.shape)}')\n",
        "print(f'TOTAL                {sum(p.numel() for p in model.parameters())}')"
      ],
      "metadata": {
        "id": "OfA7gaAoc0qs",
        "colab": {
          "base_uri": "https://localhost:8080/"
        },
        "outputId": "49edfc03-cb5f-4943-86d1-9eaf971c45b7"
      },
      "execution_count": null,
      "outputs": [
        {
          "output_type": "stream",
          "name": "stdout",
          "text": [
            "CharRNNClassifier(\n",
            "  (embed): Embedding(164, 256, padding_idx=0)\n",
            "  (rnn): LSTM(256, 256)\n",
            "  (h2o): Linear(in_features=256, out_features=6, bias=True)\n",
            ")\n",
            "embed.weight         41984 [164, 256]\n",
            "rnn.weight_ih_l0     262144 [1024, 256]\n",
            "rnn.weight_hh_l0     262144 [1024, 256]\n",
            "rnn.bias_ih_l0       1024 [1024]\n",
            "rnn.bias_hh_l0       1024 [1024]\n",
            "h2o.weight           1536 [6, 256]\n",
            "h2o.bias             6 [6]\n",
            "TOTAL                569862\n"
          ]
        }
      ]
    },
    {
      "cell_type": "code",
      "source": [
        "import matplotlib.pyplot as plt\n",
        "plt.plot(range(1, len(train_accuracy)+1), train_accuracy)\n",
        "plt.plot(range(1, len(valid_accuracy)+1), valid_accuracy)\n",
        "plt.xlabel('epoch')\n",
        "plt.ylabel('Accuracy');"
      ],
      "metadata": {
        "id": "uf7Vk8WqdEEp",
        "colab": {
          "base_uri": "https://localhost:8080/",
          "height": 281
        },
        "outputId": "71408c2a-6455-4a6b-d178-e2f1f6458407"
      },
      "execution_count": null,
      "outputs": [
        {
          "output_type": "display_data",
          "data": {
            "text/plain": [
              "<Figure size 432x288 with 1 Axes>"
            ],
            "image/png": "[encoded data removed]"
          },
          "metadata": {
            "needs_background": "light"
          }
        }
      ]
    },
    {
      "cell_type": "code",
      "source": [
        "tr_acc = train(model, optimizer, train_data, batch_size, token_size, log=epoch==1)\n",
        "train_accuracy.append(tr_acc)\n",
        "print(f'| epoch {epoch:03d} | train accuracy={tr_acc:.1f}%)')\n",
        "vl_acc = validate(model, val_data, batch_size, token_size)\n",
        "valid_accuracy.append(vl_acc)\n",
        "print(f'| epoch {epoch:03d} | valid accuracy={vl_acc:.1f}%')"
      ],
      "metadata": {
        "id": "5ptTC25kdEFh",
        "colab": {
          "base_uri": "https://localhost:8080/"
        },
        "outputId": "663b35f9-39bd-4a8f-ebdd-c4540377d471"
      },
      "execution_count": null,
      "outputs": [
        {
          "output_type": "stream",
          "name": "stdout",
          "text": [
            "| epoch 030 | train accuracy=98.7%)\n",
            "| epoch 030 | valid accuracy=85.3%\n"
          ]
        }
      ]
    }
  ]
}