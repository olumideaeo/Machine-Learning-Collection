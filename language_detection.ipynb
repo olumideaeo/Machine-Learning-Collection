{
  "nbformat": 4,
  "nbformat_minor": 0,
  "metadata": {
    "colab": {
      "name": "Untitled16.ipynb",
      "provenance": [],
      "authorship_tag": "ABX9TyO49nxcS/x3FFiiAA3lW0d7",
      "include_colab_link": true
    },
    "kernelspec": {
      "name": "python3",
      "display_name": "Python 3"
    },
    "language_info": {
      "name": "python"
    }
  },
  "cells": [
    {
      "cell_type": "markdown",
      "metadata": {
        "id": "view-in-github",
        "colab_type": "text"
      },
      "source": [
        "<a href=\"https://colab.research.google.com/github/olumideaeo/Machine-Learning-Collection/blob/master/language_detection.ipynb\" target=\"_parent\"><img src=\"https://colab.research.google.com/assets/colab-badge.svg\" alt=\"Open In Colab\"/></a>"
      ]
    },
    {
      "cell_type": "markdown",
      "source": [
        "# Language Detection\n"
      ],
      "metadata": {
        "id": "zjM9rPEqEaQJ"
      }
    },
    {
      "cell_type": "code",
      "source": [
        "!pip install langdetect"
      ],
      "metadata": {
        "colab": {
          "base_uri": "https://localhost:8080/"
        },
        "id": "TU9p3I930CCT",
        "outputId": "fb913ef5-23d0-4e13-cd78-80cd81b5b3f1"
      },
      "execution_count": 18,
      "outputs": [
        {
          "output_type": "stream",
          "name": "stdout",
          "text": [
            "Requirement already satisfied: langdetect in /usr/local/lib/python3.7/dist-packages (1.0.9)\n",
            "Requirement already satisfied: six in /usr/local/lib/python3.7/dist-packages (from langdetect) (1.15.0)\n"
          ]
        }
      ]
    },
    {
      "cell_type": "code",
      "execution_count": 19,
      "metadata": {
        "id": "NUhmcrVewVna"
      },
      "outputs": [],
      "source": [
        "from langdetect import detect"
      ]
    },
    {
      "cell_type": "code",
      "source": [
        "#To determine the language\n",
        "print(detect(\"I am a winner\"))\n",
        "print(detect(\"Sou um vencedor\"))\n",
        "print(detect(\"Yo soy un ganador\"))\n",
        "print(detect(\"я победитель\"))\n",
        "print(detect(\"Sono un vincitore\"))\n",
        "print(detect(\"je suis un gagnant\"))\n",
        "print(detect(\"אני מנצח\"))\n",
        "print(detect(\"Ich bin ein Sieger\"))\n",
        "print(detect(\"olen voittaja\"))"
      ],
      "metadata": {
        "colab": {
          "base_uri": "https://localhost:8080/"
        },
        "id": "6ZTT-2Ow9pB0",
        "outputId": "e6ffafb8-35e5-45d0-9adc-9db7f09ecf0c"
      },
      "execution_count": 20,
      "outputs": [
        {
          "output_type": "stream",
          "name": "stdout",
          "text": [
            "en\n",
            "pt\n",
            "so\n",
            "ru\n",
            "it\n",
            "fr\n",
            "he\n",
            "de\n",
            "fi\n"
          ]
        }
      ]
    },
    {
      "cell_type": "code",
      "source": [
        "#To determine the probabilities of the top languages\n",
        "from langdetect import detect_langs\n",
        "detect_langs(\"I am a winner\")"
      ],
      "metadata": {
        "colab": {
          "base_uri": "https://localhost:8080/"
        },
        "id": "mGjldVMHCz6P",
        "outputId": "38613abb-0358-4caa-bd45-f8255641bc53"
      },
      "execution_count": 21,
      "outputs": [
        {
          "output_type": "execute_result",
          "data": {
            "text/plain": [
              "[en:0.8571393275471436, pl:0.14285839748659762]"
            ]
          },
          "metadata": {},
          "execution_count": 21
        }
      ]
    },
    {
      "cell_type": "code",
      "source": [
        "detect_langs(\"Sou um vencedor\")"
      ],
      "metadata": {
        "colab": {
          "base_uri": "https://localhost:8080/"
        },
        "id": "OIvQwxi3DqAK",
        "outputId": "ba3f6a94-a73f-4e86-eb6b-66d73a899711"
      },
      "execution_count": 22,
      "outputs": [
        {
          "output_type": "execute_result",
          "data": {
            "text/plain": [
              "[pt:0.9999962476105746]"
            ]
          },
          "metadata": {},
          "execution_count": 22
        }
      ]
    },
    {
      "cell_type": "code",
      "source": [
        "detect_langs(\"Yo soy un ganador\")"
      ],
      "metadata": {
        "colab": {
          "base_uri": "https://localhost:8080/"
        },
        "id": "9sHYbq_BDr_m",
        "outputId": "aa44ff80-f5c4-43e1-8378-94813ba7d5b0"
      },
      "execution_count": 23,
      "outputs": [
        {
          "output_type": "execute_result",
          "data": {
            "text/plain": [
              "[es:0.428572828300661, so:0.28571408892007955, cy:0.2857129039140193]"
            ]
          },
          "metadata": {},
          "execution_count": 23
        }
      ]
    },
    {
      "cell_type": "code",
      "source": [
        "detect_langs(\"я победитель\")"
      ],
      "metadata": {
        "colab": {
          "base_uri": "https://localhost:8080/"
        },
        "id": "e3f2GuL-DuQU",
        "outputId": "82a55bd2-1471-40e3-d75e-bb52e6832d11"
      },
      "execution_count": 24,
      "outputs": [
        {
          "output_type": "execute_result",
          "data": {
            "text/plain": [
              "[ru:0.9999977959298967]"
            ]
          },
          "metadata": {},
          "execution_count": 24
        }
      ]
    },
    {
      "cell_type": "code",
      "source": [
        "detect_langs(\"Sono un vincitore\")"
      ],
      "metadata": {
        "colab": {
          "base_uri": "https://localhost:8080/"
        },
        "id": "mVel5A4lDvqr",
        "outputId": "1d6d579b-fa97-4a5d-e53b-ba7502165672"
      },
      "execution_count": 25,
      "outputs": [
        {
          "output_type": "execute_result",
          "data": {
            "text/plain": [
              "[it:0.9999928813154473]"
            ]
          },
          "metadata": {},
          "execution_count": 25
        }
      ]
    },
    {
      "cell_type": "code",
      "source": [
        "detect_langs(\"je suis un gagnant\")"
      ],
      "metadata": {
        "colab": {
          "base_uri": "https://localhost:8080/"
        },
        "id": "6qQ0aR6wDxUO",
        "outputId": "ff29c5c9-5062-4927-d729-b8c0c240926d"
      },
      "execution_count": 26,
      "outputs": [
        {
          "output_type": "execute_result",
          "data": {
            "text/plain": [
              "[fr:0.9999967554620868]"
            ]
          },
          "metadata": {},
          "execution_count": 26
        }
      ]
    },
    {
      "cell_type": "code",
      "source": [
        "detect_langs(\"אני מנצח\")"
      ],
      "metadata": {
        "colab": {
          "base_uri": "https://localhost:8080/"
        },
        "id": "zpl8VhfJDzjX",
        "outputId": "71677716-7bf6-49c4-b74b-2d5953c32af7"
      },
      "execution_count": 27,
      "outputs": [
        {
          "output_type": "execute_result",
          "data": {
            "text/plain": [
              "[he:0.9999998647208986]"
            ]
          },
          "metadata": {},
          "execution_count": 27
        }
      ]
    },
    {
      "cell_type": "code",
      "source": [
        "detect_langs(\"Ich bin ein Sieger\")"
      ],
      "metadata": {
        "colab": {
          "base_uri": "https://localhost:8080/"
        },
        "id": "OLMgmbZ0D2aj",
        "outputId": "cf6f4ffa-4b4f-4e47-fa83-7c71b6005fa5"
      },
      "execution_count": 28,
      "outputs": [
        {
          "output_type": "execute_result",
          "data": {
            "text/plain": [
              "[de:0.9999984632519936]"
            ]
          },
          "metadata": {},
          "execution_count": 28
        }
      ]
    },
    {
      "cell_type": "code",
      "source": [
        "detect_langs(\"olen voittaja\")"
      ],
      "metadata": {
        "colab": {
          "base_uri": "https://localhost:8080/"
        },
        "id": "2W-wt8DQD6GI",
        "outputId": "177db88c-ea4d-4d93-c185-2af133b52d0a"
      },
      "execution_count": 29,
      "outputs": [
        {
          "output_type": "execute_result",
          "data": {
            "text/plain": [
              "[fi:0.9999984622129046]"
            ]
          },
          "metadata": {},
          "execution_count": 29
        }
      ]
    },
    {
      "cell_type": "markdown",
      "source": [
        "Reference: https://github.com/Mimino666/langdetect"
      ],
      "metadata": {
        "id": "vDvsnnp5Ert8"
      }
    }
  ]
}